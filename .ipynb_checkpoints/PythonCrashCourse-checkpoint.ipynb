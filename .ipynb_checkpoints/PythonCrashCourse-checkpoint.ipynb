{
 "cells": [
  {
   "cell_type": "code",
   "execution_count": 2,
   "id": "579b7e7b",
   "metadata": {},
   "outputs": [],
   "source": [
    "#Testing Setup\n",
    "import pandas"
   ]
  },
  {
   "cell_type": "code",
   "execution_count": 3,
   "id": "7721a1c7",
   "metadata": {},
   "outputs": [
    {
     "data": {
      "text/plain": [
       "'1.5.3'"
      ]
     },
     "execution_count": 3,
     "metadata": {},
     "output_type": "execute_result"
    }
   ],
   "source": [
    "pandas.__version__"
   ]
  },
  {
   "cell_type": "code",
   "execution_count": 30,
   "id": "b1b1cb9d",
   "metadata": {},
   "outputs": [],
   "source": [
    "#DATA STRUCTURE"
   ]
  },
  {
   "cell_type": "code",
   "execution_count": 6,
   "id": "488d4ce5",
   "metadata": {},
   "outputs": [
    {
     "name": "stdout",
     "output_type": "stream",
     "text": [
      "My name is Wande, my number is 10\n"
     ]
    }
   ],
   "source": [
    "#String interpolation- a way to insert object into a string\n",
    "print('My name is {}, my number is {}'.format('Wande', '10'))"
   ]
  },
  {
   "cell_type": "code",
   "execution_count": 7,
   "id": "f7d27e6e",
   "metadata": {},
   "outputs": [
    {
     "name": "stdout",
     "output_type": "stream",
     "text": [
      "I am Wande, my position is 1\n"
     ]
    }
   ],
   "source": [
    "print('I am {name}, my position is {number}'.format(name='Wande', number='1'))"
   ]
  },
  {
   "cell_type": "code",
   "execution_count": 8,
   "id": "462f4974",
   "metadata": {},
   "outputs": [],
   "source": [
    "#Indexing a list\n",
    "myList = ['a', 'b', 'c']"
   ]
  },
  {
   "cell_type": "code",
   "execution_count": 9,
   "id": "8a99ef0b",
   "metadata": {},
   "outputs": [
    {
     "data": {
      "text/plain": [
       "'c'"
      ]
     },
     "execution_count": 9,
     "metadata": {},
     "output_type": "execute_result"
    }
   ],
   "source": [
    "myList[2]"
   ]
  },
  {
   "cell_type": "code",
   "execution_count": 10,
   "id": "49dc42c3",
   "metadata": {},
   "outputs": [
    {
     "data": {
      "text/plain": [
       "'c'"
      ]
     },
     "execution_count": 10,
     "metadata": {},
     "output_type": "execute_result"
    }
   ],
   "source": [
    "#Python support negative indexing\n",
    "myList[-1] #grab the last item"
   ]
  },
  {
   "cell_type": "code",
   "execution_count": 11,
   "id": "64fb20ba",
   "metadata": {},
   "outputs": [],
   "source": [
    "#Changing item in a list\n",
    "myList[0] = 'New'"
   ]
  },
  {
   "cell_type": "code",
   "execution_count": 12,
   "id": "2ba50bec",
   "metadata": {},
   "outputs": [
    {
     "data": {
      "text/plain": [
       "['New', 'b', 'c']"
      ]
     },
     "execution_count": 12,
     "metadata": {},
     "output_type": "execute_result"
    }
   ],
   "source": [
    "myList"
   ]
  },
  {
   "cell_type": "code",
   "execution_count": 13,
   "id": "008c0913",
   "metadata": {},
   "outputs": [],
   "source": [
    "#Adding a new item to a list - APPEND\n",
    "myList.append('d')"
   ]
  },
  {
   "cell_type": "code",
   "execution_count": 14,
   "id": "f9a1cb13",
   "metadata": {},
   "outputs": [
    {
     "data": {
      "text/plain": [
       "['New', 'b', 'c', 'd']"
      ]
     },
     "execution_count": 14,
     "metadata": {},
     "output_type": "execute_result"
    }
   ],
   "source": [
    "myList"
   ]
  },
  {
   "cell_type": "code",
   "execution_count": 15,
   "id": "05fa9a3a",
   "metadata": {},
   "outputs": [],
   "source": [
    "#Nesting\n",
    "myList = [1, 2, [100, 200]]"
   ]
  },
  {
   "cell_type": "code",
   "execution_count": 16,
   "id": "70d77dfe",
   "metadata": {},
   "outputs": [
    {
     "data": {
      "text/plain": [
       "[1, 2, [100, 200]]"
      ]
     },
     "execution_count": 16,
     "metadata": {},
     "output_type": "execute_result"
    }
   ],
   "source": [
    "myList"
   ]
  },
  {
   "cell_type": "code",
   "execution_count": 17,
   "id": "8de89da0",
   "metadata": {},
   "outputs": [
    {
     "data": {
      "text/plain": [
       "200"
      ]
     },
     "execution_count": 17,
     "metadata": {},
     "output_type": "execute_result"
    }
   ],
   "source": [
    "#Grabing item from a nested list \n",
    "myList[2][1]"
   ]
  },
  {
   "cell_type": "code",
   "execution_count": 18,
   "id": "fdcb0d8c",
   "metadata": {},
   "outputs": [],
   "source": [
    "#DICTIONARY"
   ]
  },
  {
   "cell_type": "code",
   "execution_count": 19,
   "id": "552bbb0f",
   "metadata": {},
   "outputs": [],
   "source": [
    "d = {'key1': 'value1', 'key2': 'value2'}"
   ]
  },
  {
   "cell_type": "code",
   "execution_count": 21,
   "id": "f55c4e23",
   "metadata": {},
   "outputs": [
    {
     "data": {
      "text/plain": [
       "'value1'"
      ]
     },
     "execution_count": 21,
     "metadata": {},
     "output_type": "execute_result"
    }
   ],
   "source": [
    "d['key1']"
   ]
  },
  {
   "cell_type": "code",
   "execution_count": 22,
   "id": "bb6521e7",
   "metadata": {},
   "outputs": [
    {
     "name": "stdout",
     "output_type": "stream",
     "text": [
      "{'key1': 'value1', 'key2': 'value2'}\n"
     ]
    }
   ],
   "source": [
    "#Dictionaries are unordered\n",
    "print(d)"
   ]
  },
  {
   "cell_type": "code",
   "execution_count": 23,
   "id": "2ec02e51",
   "metadata": {},
   "outputs": [],
   "source": [
    "#BOOLEANS"
   ]
  },
  {
   "cell_type": "code",
   "execution_count": 24,
   "id": "c9624940",
   "metadata": {},
   "outputs": [],
   "source": [
    "# 0 is a falsy value while 1 is a truty value"
   ]
  },
  {
   "cell_type": "code",
   "execution_count": 25,
   "id": "801a1b3f",
   "metadata": {},
   "outputs": [],
   "source": [
    "#TUPLES - are like a list but they are defined using parenthesis instead of square braacket like in list \n",
    "t = (1, 2, 3)"
   ]
  },
  {
   "cell_type": "code",
   "execution_count": 27,
   "id": "ee957ca3",
   "metadata": {},
   "outputs": [],
   "source": [
    "#Why use tuples instead of a list? Tuples are immutable, meaning you cannot reassign the values.\n",
    "#You use tuples to ensure a user cannot change anything inside of the sequence e.g"
   ]
  },
  {
   "cell_type": "code",
   "execution_count": 29,
   "id": "d413266e",
   "metadata": {},
   "outputs": [],
   "source": [
    "#SET - Is just like dictionary except that it does not have key-value pair\n",
    "#It is just  a sequence of item i.e a unodered collection of unique items\n",
    "#This means when you add multiple instances of an element inside of a set, it will reduce it to just the unique element"
   ]
  },
  {
   "cell_type": "code",
   "execution_count": 31,
   "id": "3bcc4545",
   "metadata": {},
   "outputs": [],
   "source": [
    "#LOGIC COMPARISM OPERATORS"
   ]
  },
  {
   "cell_type": "code",
   "execution_count": 32,
   "id": "41b24a09",
   "metadata": {},
   "outputs": [
    {
     "data": {
      "text/plain": [
       "True"
      ]
     },
     "execution_count": 32,
     "metadata": {},
     "output_type": "execute_result"
    }
   ],
   "source": [
    "(1 == 1) and ('a' == 'a')"
   ]
  },
  {
   "cell_type": "code",
   "execution_count": 34,
   "id": "865241ef",
   "metadata": {},
   "outputs": [
    {
     "data": {
      "text/plain": [
       "True"
      ]
     },
     "execution_count": 34,
     "metadata": {},
     "output_type": "execute_result"
    }
   ],
   "source": [
    "(1 == 1) & ('a' == 'a')"
   ]
  },
  {
   "cell_type": "code",
   "execution_count": 35,
   "id": "e4f6d0a7",
   "metadata": {},
   "outputs": [
    {
     "data": {
      "text/plain": [
       "True"
      ]
     },
     "execution_count": 35,
     "metadata": {},
     "output_type": "execute_result"
    }
   ],
   "source": [
    "(1 == 1) or ('a' == 'b')"
   ]
  },
  {
   "cell_type": "code",
   "execution_count": 36,
   "id": "a724390e",
   "metadata": {},
   "outputs": [
    {
     "data": {
      "text/plain": [
       "False"
      ]
     },
     "execution_count": 36,
     "metadata": {},
     "output_type": "execute_result"
    }
   ],
   "source": [
    "(1 == '1') or ('a' == 'b')"
   ]
  },
  {
   "cell_type": "code",
   "execution_count": 37,
   "id": "6a93e906",
   "metadata": {},
   "outputs": [],
   "source": [
    "#IF ELSE STATEMENT"
   ]
  },
  {
   "cell_type": "code",
   "execution_count": 39,
   "id": "b1f7a0f6",
   "metadata": {},
   "outputs": [
    {
     "name": "stdout",
     "output_type": "stream",
     "text": [
      "Yea!\n"
     ]
    }
   ],
   "source": [
    "if 1==1:\n",
    "    print('Yea!')"
   ]
  },
  {
   "cell_type": "code",
   "execution_count": 40,
   "id": "08b739c0",
   "metadata": {},
   "outputs": [
    {
     "name": "stdout",
     "output_type": "stream",
     "text": [
      "Nope\n"
     ]
    }
   ],
   "source": [
    "if 1==2:\n",
    "    print('Yea!')\n",
    "else:\n",
    "    print('Nope')"
   ]
  },
  {
   "cell_type": "code",
   "execution_count": 41,
   "id": "87190d2f",
   "metadata": {},
   "outputs": [
    {
     "name": "stdout",
     "output_type": "stream",
     "text": [
      "second condition true\n"
     ]
    }
   ],
   "source": [
    "if 1==2:\n",
    "    print('Yea!')\n",
    "elif 3==3:\n",
    "    print('second condition true')\n",
    "else:\n",
    "    print('Nope')"
   ]
  },
  {
   "cell_type": "code",
   "execution_count": 42,
   "id": "3b6c10de",
   "metadata": {},
   "outputs": [],
   "source": [
    "#FOR LOOP"
   ]
  },
  {
   "cell_type": "code",
   "execution_count": 43,
   "id": "4f07b706",
   "metadata": {},
   "outputs": [],
   "source": [
    "seq = [1, 2, 3, 4, 5]"
   ]
  },
  {
   "cell_type": "code",
   "execution_count": 45,
   "id": "769d72ef",
   "metadata": {},
   "outputs": [
    {
     "name": "stdout",
     "output_type": "stream",
     "text": [
      "1\n",
      "2\n",
      "3\n",
      "4\n",
      "5\n"
     ]
    }
   ],
   "source": [
    "for element in seq:\n",
    "    print(element)"
   ]
  },
  {
   "cell_type": "code",
   "execution_count": 47,
   "id": "41349f50",
   "metadata": {},
   "outputs": [
    {
     "name": "stdout",
     "output_type": "stream",
     "text": [
      "1\n",
      "4\n",
      "9\n",
      "16\n",
      "25\n"
     ]
    }
   ],
   "source": [
    "for element in seq:\n",
    "    print(element*element)"
   ]
  },
  {
   "cell_type": "code",
   "execution_count": 48,
   "id": "2ac7a73c",
   "metadata": {},
   "outputs": [],
   "source": [
    "#WHILE LOOPS"
   ]
  },
  {
   "cell_type": "code",
   "execution_count": 5,
   "id": "0f7b9958",
   "metadata": {},
   "outputs": [
    {
     "name": "stdout",
     "output_type": "stream",
     "text": [
      "i is 1\n",
      "i is 2\n",
      "i is 3\n",
      "i is 4\n"
     ]
    }
   ],
   "source": [
    "i = 1\n",
    "while i < 5:\n",
    "    print('i is {}'.format(i))\n",
    "    i = i + 1"
   ]
  },
  {
   "cell_type": "code",
   "execution_count": 6,
   "id": "681a59db",
   "metadata": {},
   "outputs": [
    {
     "data": {
      "text/plain": [
       "[2, 3, 4, 5, 6, 7, 8, 9]"
      ]
     },
     "execution_count": 6,
     "metadata": {},
     "output_type": "execute_result"
    }
   ],
   "source": [
    "#Range\n",
    "list(range(2, 10))"
   ]
  },
  {
   "cell_type": "code",
   "execution_count": 7,
   "id": "43f4c7a0",
   "metadata": {},
   "outputs": [
    {
     "data": {
      "text/plain": [
       "[2, 4, 6, 8]"
      ]
     },
     "execution_count": 7,
     "metadata": {},
     "output_type": "execute_result"
    }
   ],
   "source": [
    "list(range(2, 10, 2))"
   ]
  },
  {
   "cell_type": "code",
   "execution_count": 8,
   "id": "414a28be",
   "metadata": {},
   "outputs": [],
   "source": [
    "#List comprehension"
   ]
  },
  {
   "cell_type": "code",
   "execution_count": 10,
   "id": "f8a24bbd",
   "metadata": {},
   "outputs": [
    {
     "name": "stdout",
     "output_type": "stream",
     "text": [
      "[1, 4, 9, 16, 25]\n"
     ]
    }
   ],
   "source": [
    "x = [1, 2, 3, 4, 5]\n",
    "out = []\n",
    "for num in x:\n",
    "    out.append(num**2)\n",
    "print(out)"
   ]
  },
  {
   "cell_type": "code",
   "execution_count": 11,
   "id": "a197dbb4",
   "metadata": {},
   "outputs": [
    {
     "data": {
      "text/plain": [
       "[1, 4, 9, 16, 25]"
      ]
     },
     "execution_count": 11,
     "metadata": {},
     "output_type": "execute_result"
    }
   ],
   "source": [
    "#Converting the for loop above to a list comprehenshion\n",
    "[num**2 for num in x]"
   ]
  },
  {
   "cell_type": "code",
   "execution_count": 1,
   "id": "a7afde4b",
   "metadata": {},
   "outputs": [],
   "source": [
    "#FUNCTION"
   ]
  },
  {
   "cell_type": "code",
   "execution_count": 12,
   "id": "3f8900a6",
   "metadata": {},
   "outputs": [],
   "source": [
    "def my_func(name):\n",
    "    print('Hello '+name)"
   ]
  },
  {
   "cell_type": "code",
   "execution_count": 13,
   "id": "3566937c",
   "metadata": {},
   "outputs": [
    {
     "name": "stdout",
     "output_type": "stream",
     "text": [
      "Hello wande\n"
     ]
    }
   ],
   "source": [
    "my_func('wande')"
   ]
  },
  {
   "cell_type": "code",
   "execution_count": 14,
   "id": "b3a30215",
   "metadata": {},
   "outputs": [],
   "source": [
    "#Adding documentation string AKA docstring\n",
    "\n",
    "def my_func(name):\n",
    "    '''\n",
    "    this print out the user name!\n",
    "    '''\n",
    "    print('Hello '+name)"
   ]
  },
  {
   "cell_type": "code",
   "execution_count": 16,
   "id": "1610eae6",
   "metadata": {},
   "outputs": [
    {
     "name": "stdout",
     "output_type": "stream",
     "text": [
      "Hello wande\n"
     ]
    }
   ],
   "source": [
    "my_func('wande')"
   ]
  },
  {
   "cell_type": "code",
   "execution_count": 17,
   "id": "f1552ace",
   "metadata": {},
   "outputs": [],
   "source": [
    "#Return keywords allow you to save the output as a variable\n",
    "def square(x):\n",
    "    return x**2\n",
    "result = square(2)"
   ]
  },
  {
   "cell_type": "code",
   "execution_count": 18,
   "id": "553fed83",
   "metadata": {},
   "outputs": [
    {
     "data": {
      "text/plain": [
       "4"
      ]
     },
     "execution_count": 18,
     "metadata": {},
     "output_type": "execute_result"
    }
   ],
   "source": [
    "result"
   ]
  },
  {
   "cell_type": "code",
   "execution_count": 19,
   "id": "29d4ca6b",
   "metadata": {},
   "outputs": [],
   "source": [
    "#LAMBDA EXPRESSION\n",
    "#Use for writing anonymous function - when you want to use the function just one time and you dont want to rewrite the function"
   ]
  },
  {
   "cell_type": "code",
   "execution_count": 22,
   "id": "3fb0df66",
   "metadata": {},
   "outputs": [
    {
     "data": {
      "text/plain": [
       "20"
      ]
     },
     "execution_count": 22,
     "metadata": {},
     "output_type": "execute_result"
    }
   ],
   "source": [
    "#Normal function example\n",
    "def times_two(var):\n",
    "    return var*2\n",
    "times_two(10)"
   ]
  },
  {
   "cell_type": "code",
   "execution_count": 23,
   "id": "58869fb5",
   "metadata": {},
   "outputs": [
    {
     "data": {
      "text/plain": [
       "<function __main__.<lambda>(var)>"
      ]
     },
     "execution_count": 23,
     "metadata": {},
     "output_type": "execute_result"
    }
   ],
   "source": [
    "#Writting the above function with lambda expression\n",
    "lambda var: var*2"
   ]
  },
  {
   "cell_type": "code",
   "execution_count": 24,
   "id": "ae2adf14",
   "metadata": {},
   "outputs": [],
   "source": [
    "#METHODS"
   ]
  },
  {
   "cell_type": "code",
   "execution_count": 25,
   "id": "81070771",
   "metadata": {},
   "outputs": [],
   "source": [
    "st = 'Hello my name is Wande'"
   ]
  },
  {
   "cell_type": "code",
   "execution_count": 27,
   "id": "a26b2570",
   "metadata": {},
   "outputs": [
    {
     "data": {
      "text/plain": [
       "'hello my name is wande'"
      ]
     },
     "execution_count": 27,
     "metadata": {},
     "output_type": "execute_result"
    }
   ],
   "source": [
    "st.lower()"
   ]
  },
  {
   "cell_type": "code",
   "execution_count": 28,
   "id": "f06d0467",
   "metadata": {},
   "outputs": [
    {
     "data": {
      "text/plain": [
       "'HELLO MY NAME IS WANDE'"
      ]
     },
     "execution_count": 28,
     "metadata": {},
     "output_type": "execute_result"
    }
   ],
   "source": [
    "st.upper()"
   ]
  },
  {
   "cell_type": "code",
   "execution_count": 29,
   "id": "7607a7e3",
   "metadata": {},
   "outputs": [
    {
     "data": {
      "text/plain": [
       "['hello', 'my', 'name', 'is', 'wande']"
      ]
     },
     "execution_count": 29,
     "metadata": {},
     "output_type": "execute_result"
    }
   ],
   "source": [
    "st.split()"
   ]
  },
  {
   "cell_type": "code",
   "execution_count": 30,
   "id": "8ec9d618",
   "metadata": {},
   "outputs": [],
   "source": [
    "#To split on a particular element\n",
    "tweet = 'Hello #sports'"
   ]
  },
  {
   "cell_type": "code",
   "execution_count": 31,
   "id": "86b98514",
   "metadata": {},
   "outputs": [
    {
     "data": {
      "text/plain": [
       "['Hello ', 'sports']"
      ]
     },
     "execution_count": 31,
     "metadata": {},
     "output_type": "execute_result"
    }
   ],
   "source": [
    "tweet.split('#')"
   ]
  },
  {
   "cell_type": "code",
   "execution_count": 32,
   "id": "94cf8721",
   "metadata": {},
   "outputs": [
    {
     "data": {
      "text/plain": [
       "'sports'"
      ]
     },
     "execution_count": 32,
     "metadata": {},
     "output_type": "execute_result"
    }
   ],
   "source": [
    "#To split on a particular element and get the last element from the list\n",
    "tweet.split('#')[-1]"
   ]
  },
  {
   "cell_type": "code",
   "execution_count": 33,
   "id": "8425e9fb",
   "metadata": {},
   "outputs": [],
   "source": [
    "#Selecting from a dictionary\n",
    "d = {'k1':'v1', 'k2':'v2' }"
   ]
  },
  {
   "cell_type": "code",
   "execution_count": 35,
   "id": "6c911f6b",
   "metadata": {},
   "outputs": [
    {
     "data": {
      "text/plain": [
       "dict_keys(['k1', 'k2'])"
      ]
     },
     "execution_count": 35,
     "metadata": {},
     "output_type": "execute_result"
    }
   ],
   "source": [
    "d.keys()"
   ]
  },
  {
   "cell_type": "code",
   "execution_count": 36,
   "id": "7b4dde9a",
   "metadata": {},
   "outputs": [
    {
     "data": {
      "text/plain": [
       "dict_items([('k1', 'v1'), ('k2', 'v2')])"
      ]
     },
     "execution_count": 36,
     "metadata": {},
     "output_type": "execute_result"
    }
   ],
   "source": [
    "d.items()"
   ]
  },
  {
   "cell_type": "code",
   "execution_count": 40,
   "id": "65c45570",
   "metadata": {},
   "outputs": [],
   "source": [
    "#Remove element from a list with pop\n",
    "myList = [1, 2, 3]"
   ]
  },
  {
   "cell_type": "code",
   "execution_count": 41,
   "id": "f51bd67c",
   "metadata": {},
   "outputs": [
    {
     "data": {
      "text/plain": [
       "3"
      ]
     },
     "execution_count": 41,
     "metadata": {},
     "output_type": "execute_result"
    }
   ],
   "source": [
    "last = myList.pop()\n",
    "last"
   ]
  },
  {
   "cell_type": "code",
   "execution_count": 44,
   "id": "770738bb",
   "metadata": {},
   "outputs": [],
   "source": [
    "#Remove item from a particular location\n",
    "newList = [1, 2, 3]"
   ]
  },
  {
   "cell_type": "code",
   "execution_count": 45,
   "id": "68e25b6f",
   "metadata": {},
   "outputs": [
    {
     "data": {
      "text/plain": [
       "1"
      ]
     },
     "execution_count": 45,
     "metadata": {},
     "output_type": "execute_result"
    }
   ],
   "source": [
    "first = newList.pop(0)\n",
    "first"
   ]
  },
  {
   "cell_type": "code",
   "execution_count": 46,
   "id": "467a5202",
   "metadata": {},
   "outputs": [],
   "source": [
    "#Check if an item is inside of a list"
   ]
  },
  {
   "cell_type": "code",
   "execution_count": 47,
   "id": "7f8dbf9c",
   "metadata": {},
   "outputs": [
    {
     "data": {
      "text/plain": [
       "False"
      ]
     },
     "execution_count": 47,
     "metadata": {},
     "output_type": "execute_result"
    }
   ],
   "source": [
    "'x' in [1, 2, 3]"
   ]
  },
  {
   "cell_type": "code",
   "execution_count": 48,
   "id": "d59a5d6d",
   "metadata": {},
   "outputs": [
    {
     "data": {
      "text/plain": [
       "True"
      ]
     },
     "execution_count": 48,
     "metadata": {},
     "output_type": "execute_result"
    }
   ],
   "source": [
    "1 in [1, 2, 3]"
   ]
  },
  {
   "cell_type": "code",
   "execution_count": 49,
   "id": "074c9660",
   "metadata": {},
   "outputs": [
    {
     "data": {
      "text/plain": [
       "True"
      ]
     },
     "execution_count": 49,
     "metadata": {},
     "output_type": "execute_result"
    }
   ],
   "source": [
    "2 in newList"
   ]
  },
  {
   "cell_type": "code",
   "execution_count": null,
   "id": "f0ef49e0",
   "metadata": {},
   "outputs": [],
   "source": []
  }
 ],
 "metadata": {
  "kernelspec": {
   "display_name": "Python 3 (ipykernel)",
   "language": "python",
   "name": "python3"
  },
  "language_info": {
   "codemirror_mode": {
    "name": "ipython",
    "version": 3
   },
   "file_extension": ".py",
   "mimetype": "text/x-python",
   "name": "python",
   "nbconvert_exporter": "python",
   "pygments_lexer": "ipython3",
   "version": "3.10.9"
  }
 },
 "nbformat": 4,
 "nbformat_minor": 5
}
